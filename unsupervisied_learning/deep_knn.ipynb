{
 "cells": [
  {
   "cell_type": "code",
   "execution_count": 4,
   "metadata": {},
   "outputs": [],
   "source": [
    "from scipy.optimize import linear_sum_assignment as linear_assignment\n",
    "from torch.utils.data import DataLoader\n",
    "from torchvision import transforms\n",
    "\n",
    "import matplotlib.pyplot as plt\n",
    "import numpy as np \n",
    "\n",
    "import torch.nn as nn\n",
    "import torchvision\n",
    "import torch\n",
    "\n",
    "BATCH_SIZE = 128\n",
    "NUM_CLUSTER = 10\n",
    "LATENT_SIZE = 10\n",
    "DATASET_SHUFFLE = True"
   ]
  },
  {
   "cell_type": "code",
   "execution_count": 5,
   "metadata": {},
   "outputs": [],
   "source": [
    "trainset    = torchvision.datasets.MNIST('../data/', download=True, train=True, transform=transforms.ToTensor())\n",
    "testset    = torchvision.datasets.MNIST('../data/', download=True, train=False, transform=transforms.ToTensor())\n",
    "trainloader = DataLoader(trainset, batch_size=BATCH_SIZE, shuffle=DATASET_SHUFFLE)\n",
    "testloader  = DataLoader(testset,  batch_size=BATCH_SIZE, shuffle=DATASET_SHUFFLE)"
   ]
  },
  {
   "cell_type": "code",
   "execution_count": 6,
   "metadata": {},
   "outputs": [],
   "source": [
    "class Flatten(nn.Module):\n",
    "    def forward(self, x):\n",
    "        batch_size = x.shape[0]\n",
    "        return x.view(batch_size, -1)\n",
    "\n",
    "class DeFlatten(nn.Module):\n",
    "    def __init__(self, k):\n",
    "        super(DeFlatten, self).__init__()\n",
    "        self.k  = k\n",
    "\n",
    "    def forward(self, x):\n",
    "        s = x.size()\n",
    "        feature_size = int((s[1] // self.k) ** 0.5)\n",
    "        return x.view(s[0], self.k, feature_size, feature_size)"
   ]
  },
  {
   "cell_type": "code",
   "execution_count": 7,
   "metadata": {},
   "outputs": [],
   "source": [
    "class Kmeans(nn.Module):\n",
    "    def __init__(self, num_cluster, latent_size):\n",
    "        super(Kmeans, self).__init__()\n",
    "        device = torch.device(\"mps\")\n",
    "        self.num_cluster = num_cluster\n",
    "        self.centroids = nn.Parameter(torch.rand(\n",
    "            (self.num_cluster, latent_size).to(device)\n",
    "        ))\n",
    "\n",
    "    def argminl2distance(self, a, b):\n",
    "        return torch.argmin(\n",
    "            torch.sum((a - b) ** 2, dim=1), dim=0\n",
    "        )\n",
    "\n",
    "    def forward(self, x):\n",
    "        y_assign = list()\n",
    "        for m in range(x.size(0)):\n",
    "            h = x[m].expand(self.num_cluster, -1)\n",
    "            assign = self.argminl2distance(h, self.centroids)\n",
    "            y_assign.append(assign.item())\n",
    "\n",
    "        return y_assign, self.centroids[y_assign]"
   ]
  },
  {
   "cell_type": "code",
   "execution_count": 8,
   "metadata": {},
   "outputs": [],
   "source": [
    "class Encoder(nn.Module):\n",
    "    def __init__(self, latent_size):\n",
    "        super(Encoder, self).__init__()\n",
    "\n",
    "        k = 16\n",
    "        self.encoder = nn.Sequential(\n",
    "            nn.Conv2d(1, k, 3, stride=2),           nn.ReLU(),\n",
    "            nn.Conv2d(k, 2 * k, 3, stride=2),       nn.ReLU(),\n",
    "            nn.Conv2d(2 * k, 4 * k, 3, stride=1),   nn.ReLU(),\n",
    "            Flatten(),\n",
    "            nn.Linear(1024, latent_size),           nn.ReLU()\n",
    "        )\n",
    "\n",
    "    def forward(self, x):\n",
    "        encoded = self.encoder(x)\n",
    "        size = x.size()\n",
    "        feature_size = int((size[1] // self.k) ** 0.5)\n",
    "        return x.view(size[0], self.k, feature_size, feature_size)\n",
    "\n",
    "class Decoder(nn.Module):\n",
    "    def __init__(self, latent_size):\n",
    "        super(Decoder, self).__init__()\n",
    "        k = 16\n",
    "        self.decoder = nn.Sequential(\n",
    "            nn.Linear(latent_size, 1024),           nn.ReLU(),\n",
    "            DeFlatten(4 * k),\n",
    "            nn.ConvTranspose2d(4 * k, 2 * k, 3, stride=1),\n",
    "            nn.ReLU(),\n",
    "            nn.ConvTranspose2d(2 * k, k, 3, stride=2),\n",
    "            nn.ReLU(),\n",
    "            nn.ConvTranspose2d(k, 1, 3, stride=2, output_padding=1),\n",
    "            nn.Sigmoid()\n",
    "        )\n",
    "\n",
    "    def forward(self, x):\n",
    "        return self.decoder(x)"
   ]
  },
  {
   "cell_type": "code",
   "execution_count": null,
   "metadata": {},
   "outputs": [],
   "source": []
  }
 ],
 "metadata": {
  "kernelspec": {
   "display_name": "Python 3",
   "language": "python",
   "name": "python3"
  },
  "language_info": {
   "codemirror_mode": {
    "name": "ipython",
    "version": 3
   },
   "file_extension": ".py",
   "mimetype": "text/x-python",
   "name": "python",
   "nbconvert_exporter": "python",
   "pygments_lexer": "ipython3",
   "version": "3.10.8"
  },
  "orig_nbformat": 4,
  "vscode": {
   "interpreter": {
    "hash": "cbd03b52000256fffc5622fb1d5afa03ae770321afbfaac74e08013d54c137c2"
   }
  }
 },
 "nbformat": 4,
 "nbformat_minor": 2
}
