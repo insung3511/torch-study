{
 "cells": [
  {
   "cell_type": "code",
   "execution_count": 1,
   "metadata": {},
   "outputs": [
    {
     "name": "stderr",
     "output_type": "stream",
     "text": [
      "/Users/bahk_insung/miniconda3/lib/python3.10/site-packages/torchvision/io/image.py:13: UserWarning: Failed to load image Python extension: dlopen(/Users/bahk_insung/miniconda3/lib/python3.10/site-packages/torchvision/image.so, 0x0006): Symbol not found: __ZN2at4_ops19empty_memory_format4callEN3c108ArrayRefIxEENS2_8optionalINS2_10ScalarTypeEEENS5_INS2_6LayoutEEENS5_INS2_6DeviceEEENS5_IbEENS5_INS2_12MemoryFormatEEE\n",
      "  Referenced from: <F0D48035-EF9E-3141-9F63-566920E60D7C> /Users/bahk_insung/miniconda3/lib/python3.10/site-packages/torchvision/image.so\n",
      "  Expected in:     <44B645FB-F027-3EE5-86D7-DBF8E2FC6264> /Users/bahk_insung/miniconda3/lib/python3.10/site-packages/torch/lib/libtorch_cpu.dylib\n",
      "  warn(f\"Failed to load image Python extension: {e}\")\n"
     ]
    }
   ],
   "source": [
    "from torchvision import transforms\n",
    "\n",
    "import torch.nn.functional as F\n",
    "import torch.optim as optim\n",
    "import torch.nn as nn\n",
    "import torchvision\n",
    "import torch\n",
    "\n",
    "from sklearn.metrics import classification_report\n",
    "from sklearn.metrics import confusion_matrix\n",
    "\n",
    "import matplotlib.pyplot as plt\n",
    "import seaborn as sns\n",
    "import numpy as np"
   ]
  },
  {
   "cell_type": "code",
   "execution_count": 2,
   "metadata": {},
   "outputs": [],
   "source": [
    "device = torch.device('mps')\n",
    "\n",
    "train_dataset = torchvision.datasets.MNIST('../data/', download=True, train=True, transform=transforms.ToTensor())\n",
    "trainloader = torch.utils.data.DataLoader(train_dataset, batch_size=50, shuffle=True)\n",
    "\n",
    "test_dataset = torchvision.datasets.MNIST('../data/', download=True, train=False, transform=transforms.ToTensor())\n",
    "testloader   = torch.utils.data.DataLoader(test_dataset, batch_size=50, shuffle=True)"
   ]
  },
  {
   "cell_type": "code",
   "execution_count": 3,
   "metadata": {},
   "outputs": [],
   "source": [
    "class Flatten(nn.Module):\n",
    "    def forward(self, x):\n",
    "        batch_size = x.shape[0]\n",
    "        return x.view(batch_size, -1)\n",
    "\n",
    "class Deflatten(nn.Module):\n",
    "    def __init__(self, k):\n",
    "        super(Deflatten, self).__init__()\n",
    "        self.k = k\n",
    "\n",
    "    def forward(self, x):\n",
    "        s = x.size()\n",
    "        feature_size = int((s[1] // self.k) ** 0.5)\n",
    "        return x.view(s[0], self.k, feature_size, feature_size)"
   ]
  },
  {
   "cell_type": "code",
   "execution_count": 4,
   "metadata": {},
   "outputs": [],
   "source": [
    "class AutoEncoder(nn.Module):\n",
    "    def __init__(self):\n",
    "        super(AutoEncoder, self).__init__()\n",
    "        k = 16\n",
    "        \n",
    "        self.encoder = nn.Sequential(\n",
    "            nn.Conv2d(    1,     k, 3, stride=2),   nn.ReLU(),\n",
    "            nn.Conv2d(    k, 2 * k, 3, stride=2),   nn.ReLU(),\n",
    "            nn.Conv2d(2 * k, 4 * k, 3, stride=2),   nn.ReLU(),\n",
    "            nn.Conv2d(4 * k, 8 * k, 2, stride=1),   nn.ReLU(),\n",
    "            nn.Flatten(),\n",
    "            nn.Linear(2048, 20),            nn.ReLU()\n",
    "            )\n",
    "\n",
    "        self.decoder = nn.Sequential(\n",
    "            nn.Linear(20, 2048),                nn.ReLU(),\n",
    "            Deflatten(8 * k),\n",
    "            nn.ConvTranspose2d(8 * k, 4 * k, 2, stride=1),  nn.ReLU(),\n",
    "            nn.ConvTranspose2d(4 * k, 2 * k, 3, stride=2),  nn.ReLU(),\n",
    "            nn.ConvTranspose2d(2 * k,     k, 3, stride=2),  nn.ReLU(),\n",
    "            nn.ConvTranspose2d(    k,     1, 3, stride=2, output_padding=1),\n",
    "            nn.Sigmoid()\n",
    "        )\n",
    "\n",
    "    def forward(self, x):\n",
    "        encoded = self.encoder(x)\n",
    "        decoded = self.decoder(encoded)\n",
    "        return encoded, decoded"
   ]
  },
  {
   "cell_type": "code",
   "execution_count": 5,
   "metadata": {},
   "outputs": [],
   "source": [
    "model = AutoEncoder().to(device)\n",
    "critention = nn.MSELoss()\n",
    "optimizer = optim.Adam(model.parameters(), lr=1e-3)"
   ]
  },
  {
   "cell_type": "code",
   "execution_count": 6,
   "metadata": {},
   "outputs": [
    {
     "ename": "",
     "evalue": "",
     "output_type": "error",
     "traceback": [
      "\u001b[1;31mThe Kernel crashed while executing code in the the current cell or a previous cell. Please review the code in the cell(s) to identify a possible cause of the failure. Click <a href='https://aka.ms/vscodeJupyterKernelCrash'>here</a> for more info. View Jupyter <a href='command:jupyter.viewOutput'>log</a> for further details."
     ]
    },
    {
     "ename": "",
     "evalue": "",
     "output_type": "error",
     "traceback": [
      "\u001b[1;31mCanceled future for execute_request message before replies were done"
     ]
    }
   ],
   "source": [
    "for epoch in range(51):\n",
    "    running_loss = 0.0\n",
    "    for data in trainloader:\n",
    "        inputs = data[0].to(device)\n",
    "        optimizer.zero_grad()\n",
    "\n",
    "        _, outputs = model(inputs)\n",
    "        loss = critention(inputs, outputs)\n",
    "        loss.backward()\n",
    "\n",
    "        optimizer.step()\n",
    "        running_loss += loss.item()\n",
    "    \n",
    "    cost = running_loss / len(trainloader)\n",
    "    print(\"[%d] loss : %.6f\" % (epoch + 1, cost))"
   ]
  },
  {
   "cell_type": "code",
   "execution_count": null,
   "metadata": {},
   "outputs": [],
   "source": [
    "prediction, actual = [], []\n",
    "\n",
    "with torch.no_grad():\n",
    "    for image, labels in testloader:\n",
    "        inputs = image.to(device)\n",
    "        labels = labels.to(device)\n",
    "        y_pred, _ = model(inputs)\n",
    "\n",
    "        prediction += y_pred.cpu().tolist()\n",
    "        actual += labels.cpu().tolist()\n",
    "\n",
    "actual, prediction = np.array(actual), np.array(np.argmax(prediction, axis=1))\n",
    "print(classification_report(actual, prediction))"
   ]
  },
  {
   "cell_type": "code",
   "execution_count": null,
   "metadata": {},
   "outputs": [],
   "source": [
    "sns.heatmap(\n",
    "    confusion_matrix(y_pred=prediction, y_true=actual), \n",
    "    annot=True, \n",
    "    cmap='Blues',\n",
    "    fmt='',\n",
    ")"
   ]
  }
 ],
 "metadata": {
  "kernelspec": {
   "display_name": "base",
   "language": "python",
   "name": "python3"
  },
  "language_info": {
   "codemirror_mode": {
    "name": "ipython",
    "version": 3
   },
   "file_extension": ".py",
   "mimetype": "text/x-python",
   "name": "python",
   "nbconvert_exporter": "python",
   "pygments_lexer": "ipython3",
   "version": "3.10.8"
  },
  "orig_nbformat": 4,
  "vscode": {
   "interpreter": {
    "hash": "cbd03b52000256fffc5622fb1d5afa03ae770321afbfaac74e08013d54c137c2"
   }
  }
 },
 "nbformat": 4,
 "nbformat_minor": 2
}
