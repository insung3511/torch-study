{
 "cells": [
  {
   "cell_type": "code",
   "execution_count": 1,
   "metadata": {},
   "outputs": [
    {
     "name": "stderr",
     "output_type": "stream",
     "text": [
      "/Users/bahk_insung/miniconda3/lib/python3.10/site-packages/torchvision/io/image.py:13: UserWarning: Failed to load image Python extension: dlopen(/Users/bahk_insung/miniconda3/lib/python3.10/site-packages/torchvision/image.so, 0x0006): Symbol not found: __ZN2at4_ops19empty_memory_format4callEN3c108ArrayRefIxEENS2_8optionalINS2_10ScalarTypeEEENS5_INS2_6LayoutEEENS5_INS2_6DeviceEEENS5_IbEENS5_INS2_12MemoryFormatEEE\n",
      "  Referenced from: <F0D48035-EF9E-3141-9F63-566920E60D7C> /Users/bahk_insung/miniconda3/lib/python3.10/site-packages/torchvision/image.so\n",
      "  Expected in:     <44B645FB-F027-3EE5-86D7-DBF8E2FC6264> /Users/bahk_insung/miniconda3/lib/python3.10/site-packages/torch/lib/libtorch_cpu.dylib\n",
      "  warn(f\"Failed to load image Python extension: {e}\")\n"
     ]
    }
   ],
   "source": [
    "from torchvision import transforms\n",
    "\n",
    "import torch.nn.functional as F\n",
    "import torch.optim as optim\n",
    "import torch.nn as nn\n",
    "import torchvision\n",
    "import torch\n",
    "\n",
    "import matplotlib.pyplot as plt\n",
    "import numpy as np"
   ]
  },
  {
   "cell_type": "code",
   "execution_count": 2,
   "metadata": {},
   "outputs": [],
   "source": [
    "device = torch.device('mps')\n",
    "\n",
    "dataset = torchvision.datasets.MNIST('../data/', download=True, train=True, transform=transforms.ToTensor())\n",
    "trainloader = torch.utils.data.DataLoader(dataset, batch_size=50, shuffle=True)"
   ]
  },
  {
   "cell_type": "code",
   "execution_count": 7,
   "metadata": {},
   "outputs": [],
   "source": [
    "class Flatten(nn.Module):\n",
    "    def forward(self, x):\n",
    "        batch_size = x.shape[0]\n",
    "        return x.view(batch_size, -1)\n",
    "\n",
    "class Deflatten(nn.Module):\n",
    "    def __init__(self, k):\n",
    "        super(Deflatten, self).__init__()\n",
    "        self.k = k\n",
    "\n",
    "    def forward(self, x):\n",
    "        s = x.size()\n",
    "        feature_size = int((s[1] // self.k) ** 0.5)\n",
    "        return x.view(s[0], self.k, feature_size, feature_size)"
   ]
  },
  {
   "cell_type": "code",
   "execution_count": 10,
   "metadata": {},
   "outputs": [],
   "source": [
    "class AutoEncoder(nn.Module):\n",
    "    def __init__(self):\n",
    "        super(AutoEncoder, self).__init__()\n",
    "        k = 16\n",
    "        \n",
    "        self.encoder = nn.Sequential(\n",
    "            nn.Conv2d(1, k, 3, stride=2),       nn.ReLU(),\n",
    "            nn.Conv2d(k, 2 * k, 3, stride=2),   nn.ReLU(),\n",
    "            nn.Conv2d(2 * k, 4 * k, 3, stride=1), nn.ReLU(),\n",
    "            nn.Flatten(),\n",
    "            nn.Linear(1024, 10),            nn.ReLU()\n",
    "            )\n",
    "\n",
    "        self.decoder = nn.Sequential(\n",
    "            nn.Linear(10, 1024),                nn.ReLU(),\n",
    "            Deflatten(4 * k),\n",
    "            nn.ConvTranspose2d(4 * k, 2 * k, 3, stride=1), nn.ReLU(),\n",
    "            nn.ConvTranspose2d(2 * k,     k, 3, stride=2),  nn.ReLU(),\n",
    "            nn.ConvTranspose2d(    k,     1, 3, stride=2, output_padding=1),\n",
    "            nn.Sigmoid()\n",
    "        )\n",
    "\n",
    "    def forward(self, x):\n",
    "        encoded = self.encoder(x)\n",
    "        decoded = self.decoder(encoded)\n",
    "        return encoded, decoded"
   ]
  },
  {
   "cell_type": "code",
   "execution_count": 11,
   "metadata": {},
   "outputs": [],
   "source": [
    "model = AutoEncoder().to(device)\n",
    "critention = nn.MSELoss()\n",
    "optimizer = optim.Adam(model.parameters(), lr=1e-3)"
   ]
  },
  {
   "cell_type": "code",
   "execution_count": 13,
   "metadata": {},
   "outputs": [
    {
     "name": "stdout",
     "output_type": "stream",
     "text": [
      "[1] loss : 0.053370\n",
      "[2] loss : 0.031154\n",
      "[3] loss : 0.025750\n",
      "[4] loss : 0.023207\n",
      "[5] loss : 0.021826\n",
      "[6] loss : 0.020950\n",
      "[7] loss : 0.020365\n",
      "[8] loss : 0.019942\n",
      "[9] loss : 0.019616\n",
      "[10] loss : 0.019364\n",
      "[11] loss : 0.019129\n",
      "[12] loss : 0.018941\n",
      "[13] loss : 0.018777\n",
      "[14] loss : 0.018638\n",
      "[15] loss : 0.018503\n",
      "[16] loss : 0.018384\n",
      "[17] loss : 0.018261\n",
      "[18] loss : 0.018157\n",
      "[19] loss : 0.018077\n",
      "[20] loss : 0.017979\n",
      "[21] loss : 0.017900\n",
      "[22] loss : 0.017857\n",
      "[23] loss : 0.017746\n",
      "[24] loss : 0.017683\n",
      "[25] loss : 0.017636\n",
      "[26] loss : 0.017562\n",
      "[27] loss : 0.017516\n",
      "[28] loss : 0.017448\n",
      "[29] loss : 0.017405\n",
      "[30] loss : 0.017369\n"
     ]
    }
   ],
   "source": [
    "for epoch in range(51):\n",
    "    running_loss = 0.0\n",
    "    for data in trainloader:\n",
    "        inputs = data[0].to(device)\n",
    "        optimizer.zero_grad()\n",
    "\n",
    "        _, outputs = model(inputs)\n",
    "        loss = critention(inputs, outputs)\n",
    "        loss.backward()\n",
    "\n",
    "        optimizer.step()\n",
    "        running_loss += loss.item()\n",
    "    \n",
    "    cost = running_loss / len(trainloader)\n",
    "    print(\"[%d] loss : %.6f\" % (epoch + 1, cost))"
   ]
  },
  {
   "cell_type": "code",
   "execution_count": null,
   "metadata": {},
   "outputs": [],
   "source": []
  }
 ],
 "metadata": {
  "kernelspec": {
   "display_name": "base",
   "language": "python",
   "name": "python3"
  },
  "language_info": {
   "codemirror_mode": {
    "name": "ipython",
    "version": 3
   },
   "file_extension": ".py",
   "mimetype": "text/x-python",
   "name": "python",
   "nbconvert_exporter": "python",
   "pygments_lexer": "ipython3",
   "version": "3.10.8"
  },
  "orig_nbformat": 4,
  "vscode": {
   "interpreter": {
    "hash": "cbd03b52000256fffc5622fb1d5afa03ae770321afbfaac74e08013d54c137c2"
   }
  }
 },
 "nbformat": 4,
 "nbformat_minor": 2
}
