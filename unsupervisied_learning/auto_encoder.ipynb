{
 "cells": [
  {
   "cell_type": "code",
   "execution_count": 1,
   "metadata": {},
   "outputs": [
    {
     "name": "stderr",
     "output_type": "stream",
     "text": [
      "/Users/bahk_insung/miniconda3/lib/python3.10/site-packages/torchvision/io/image.py:13: UserWarning: Failed to load image Python extension: dlopen(/Users/bahk_insung/miniconda3/lib/python3.10/site-packages/torchvision/image.so, 0x0006): Symbol not found: __ZN2at4_ops19empty_memory_format4callEN3c108ArrayRefIxEENS2_8optionalINS2_10ScalarTypeEEENS5_INS2_6LayoutEEENS5_INS2_6DeviceEEENS5_IbEENS5_INS2_12MemoryFormatEEE\n",
      "  Referenced from: <F0D48035-EF9E-3141-9F63-566920E60D7C> /Users/bahk_insung/miniconda3/lib/python3.10/site-packages/torchvision/image.so\n",
      "  Expected in:     <44B645FB-F027-3EE5-86D7-DBF8E2FC6264> /Users/bahk_insung/miniconda3/lib/python3.10/site-packages/torch/lib/libtorch_cpu.dylib\n",
      "  warn(f\"Failed to load image Python extension: {e}\")\n"
     ]
    }
   ],
   "source": [
    "from torchvision import transforms\n",
    "\n",
    "import torch.nn.functional as F\n",
    "import torch.optim as optim\n",
    "import torch.nn as nn\n",
    "import torchvision\n",
    "import torch\n",
    "\n",
    "import matplotlib.pyplot as plt\n",
    "import numpy as np"
   ]
  },
  {
   "cell_type": "code",
   "execution_count": 2,
   "metadata": {},
   "outputs": [],
   "source": [
    "device = torch.device('mps')\n",
    "\n",
    "dataset = torchvision.datasets.MNIST('../data/', download=True, train=True, transform=transforms.ToTensor())\n",
    "trainloader = torch.utils.data.DataLoader(dataset, batch_size=50, shuffle=True)"
   ]
  },
  {
   "cell_type": "code",
   "execution_count": 3,
   "metadata": {},
   "outputs": [],
   "source": [
    "class AutoEncoder(nn.Module):\n",
    "    def __init__(self):\n",
    "        super(AutoEncoder, self).__init__()\n",
    "        self.encoder = nn.Sequential(\n",
    "            nn.Linear(784, 128),        nn.ReLU(),\n",
    "            nn.Linear(128, 32),         nn.ReLU(),\n",
    "            nn.Linear(32, 10),          nn.ReLU()\n",
    "        )\n",
    "\n",
    "        self.decoder = nn.Sequential(\n",
    "            nn.Linear(10, 32),          nn.ReLU(),\n",
    "            nn.Linear(32, 128),         nn.ReLU(),\n",
    "            nn.Linear(128, 28 * 28),    nn.Sigmoid()\n",
    "        )\n",
    "\n",
    "    def forward(self, x):\n",
    "        encoded = self.encoder(x)\n",
    "        decoded = self.decoder(encoded)\n",
    "        return decoded"
   ]
  },
  {
   "cell_type": "code",
   "execution_count": 4,
   "metadata": {},
   "outputs": [],
   "source": [
    "model = AutoEncoder().to(device)\n",
    "criterion = nn.MSELoss()\n",
    "optimzier = optim.Adam(model.parameters(), lr=1e-4)"
   ]
  },
  {
   "cell_type": "code",
   "execution_count": 5,
   "metadata": {},
   "outputs": [
    {
     "name": "stderr",
     "output_type": "stream",
     "text": [
      "/Users/bahk_insung/miniconda3/lib/python3.10/site-packages/torch/nn/modules/loss.py:536: UserWarning: Using a target size (torch.Size([50, 1, 784])) that is different to the input size (torch.Size([50, 784])). This will likely lead to incorrect results due to broadcasting. Please ensure they have the same size.\n",
      "  return F.mse_loss(input, target, reduction=self.reduction)\n"
     ]
    },
    {
     "name": "stdout",
     "output_type": "stream",
     "text": [
      "[1] loss: 0.083\n",
      "[2] loss: 0.068\n",
      "[3] loss: 0.068\n",
      "[4] loss: 0.067\n",
      "[5] loss: 0.067\n",
      "[6] loss: 0.067\n",
      "[7] loss: 0.067\n",
      "[8] loss: 0.067\n",
      "[9] loss: 0.067\n",
      "[10] loss: 0.067\n",
      "[11] loss: 0.067\n",
      "[12] loss: 0.067\n",
      "[13] loss: 0.067\n",
      "[14] loss: 0.067\n",
      "[15] loss: 0.067\n",
      "[16] loss: 0.067\n",
      "[17] loss: 0.067\n",
      "[18] loss: 0.067\n",
      "[19] loss: 0.067\n",
      "[20] loss: 0.067\n",
      "[21] loss: 0.067\n",
      "[22] loss: 0.067\n",
      "[23] loss: 0.067\n",
      "[24] loss: 0.067\n",
      "[25] loss: 0.067\n",
      "[26] loss: 0.067\n",
      "[27] loss: 0.067\n",
      "[28] loss: 0.067\n",
      "[29] loss: 0.067\n",
      "[30] loss: 0.067\n",
      "[31] loss: 0.067\n",
      "[32] loss: 0.067\n",
      "[33] loss: 0.067\n",
      "[34] loss: 0.067\n",
      "[35] loss: 0.067\n",
      "[36] loss: 0.067\n",
      "[37] loss: 0.067\n",
      "[38] loss: 0.067\n",
      "[39] loss: 0.067\n",
      "[40] loss: 0.067\n",
      "[41] loss: 0.067\n",
      "[42] loss: 0.067\n",
      "[43] loss: 0.067\n",
      "[44] loss: 0.067\n",
      "[45] loss: 0.067\n",
      "[46] loss: 0.067\n",
      "[47] loss: 0.067\n",
      "[48] loss: 0.067\n",
      "[49] loss: 0.067\n",
      "[50] loss: 0.067\n",
      "[51] loss: 0.067\n",
      "[52] loss: 0.067\n",
      "[53] loss: 0.067\n",
      "[54] loss: 0.067\n",
      "[55] loss: 0.067\n",
      "[56] loss: 0.067\n",
      "[57] loss: 0.067\n",
      "[58] loss: 0.067\n",
      "[59] loss: 0.067\n",
      "[60] loss: 0.067\n",
      "[61] loss: 0.067\n",
      "[62] loss: 0.067\n",
      "[63] loss: 0.067\n",
      "[64] loss: 0.067\n",
      "[65] loss: 0.067\n",
      "[66] loss: 0.067\n",
      "[67] loss: 0.067\n",
      "[68] loss: 0.067\n",
      "[69] loss: 0.067\n",
      "[70] loss: 0.067\n",
      "[71] loss: 0.067\n",
      "[72] loss: 0.067\n",
      "[73] loss: 0.067\n",
      "[74] loss: 0.067\n",
      "[75] loss: 0.067\n",
      "[76] loss: 0.067\n",
      "[77] loss: 0.067\n",
      "[78] loss: 0.067\n",
      "[79] loss: 0.067\n",
      "[80] loss: 0.067\n",
      "[81] loss: 0.067\n",
      "[82] loss: 0.067\n",
      "[83] loss: 0.067\n",
      "[84] loss: 0.067\n",
      "[85] loss: 0.067\n",
      "[86] loss: 0.067\n",
      "[87] loss: 0.067\n",
      "[88] loss: 0.067\n",
      "[89] loss: 0.067\n",
      "[90] loss: 0.067\n",
      "[91] loss: 0.067\n",
      "[92] loss: 0.067\n",
      "[93] loss: 0.067\n",
      "[94] loss: 0.067\n",
      "[95] loss: 0.067\n",
      "[96] loss: 0.067\n",
      "[97] loss: 0.067\n",
      "[98] loss: 0.067\n",
      "[99] loss: 0.067\n",
      "[100] loss: 0.067\n",
      "[101] loss: 0.067\n"
     ]
    }
   ],
   "source": [
    "for epoch in range(101):\n",
    "    running_loss = 0.0\n",
    "    for data in trainloader:\n",
    "        inputs = data[0].to(device).view(-1, 28 * 28)\n",
    "        optimzier.zero_grad()\n",
    "\n",
    "        outputs = model(inputs)\n",
    "        outputs = outputs.view(-1, 1, 28 * 28)\n",
    "\n",
    "        loss = criterion(inputs, outputs)\n",
    "        loss.backward()\n",
    "        optimzier.step()\n",
    "\n",
    "        running_loss += loss.item()\n",
    "\n",
    "    cost = running_loss / len(trainloader)\n",
    "    print(\"[%d] loss: %.3f\" % (epoch + 1, cost))"
   ]
  },
  {
   "cell_type": "code",
   "execution_count": 6,
   "metadata": {},
   "outputs": [
    {
     "data": {
      "text/plain": [
       "torch.Size([50, 1, 784])"
      ]
     },
     "execution_count": 6,
     "metadata": {},
     "output_type": "execute_result"
    }
   ],
   "source": [
    "outputs.shape"
   ]
  },
  {
   "cell_type": "code",
   "execution_count": 7,
   "metadata": {},
   "outputs": [
    {
     "data": {
      "text/plain": [
       "<matplotlib.image.AxesImage at 0x11fcda110>"
      ]
     },
     "execution_count": 7,
     "metadata": {},
     "output_type": "execute_result"
    },
    {
     "data": {
      "image/png": "[encoded data removed]",
      "text/plain": [
       "<Figure size 640x480 with 1 Axes>"
      ]
     },
     "metadata": {},
     "output_type": "display_data"
    }
   ],
   "source": [
    "plt.imshow(\n",
    "    outputs[-1].view(28, 28).to(torch.device('cpu')).detach().numpy()\n",
    ")"
   ]
  },
  {
   "cell_type": "code",
   "execution_count": null,
   "metadata": {},
   "outputs": [],
   "source": []
  }
 ],
 "metadata": {
  "kernelspec": {
   "display_name": "base",
   "language": "python",
   "name": "python3"
  },
  "language_info": {
   "codemirror_mode": {
    "name": "ipython",
    "version": 3
   },
   "file_extension": ".py",
   "mimetype": "text/x-python",
   "name": "python",
   "nbconvert_exporter": "python",
   "pygments_lexer": "ipython3",
   "version": "3.10.8"
  },
  "orig_nbformat": 4,
  "vscode": {
   "interpreter": {
    "hash": "cbd03b52000256fffc5622fb1d5afa03ae770321afbfaac74e08013d54c137c2"
   }
  }
 },
 "nbformat": 4,
 "nbformat_minor": 2
}
