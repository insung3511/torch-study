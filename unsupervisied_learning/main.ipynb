{
 "cells": [
  {
   "cell_type": "code",
   "execution_count": 3,
   "metadata": {},
   "outputs": [
    {
     "name": "stderr",
     "output_type": "stream",
     "text": [
      "/Users/bahk_insung/miniconda3/lib/python3.10/site-packages/torchvision/models/_utils.py:208: UserWarning: The parameter 'pretrained' is deprecated since 0.13 and will be removed in 0.15, please use 'weights' instead.\n",
      "  warnings.warn(\n",
      "/Users/bahk_insung/miniconda3/lib/python3.10/site-packages/torchvision/models/_utils.py:223: UserWarning: Arguments other than a weight enum or `None` for 'weights' are deprecated since 0.13 and will be removed in 0.15. The current behavior is equivalent to passing `weights=VGG19_Weights.IMAGENET1K_V1`. You can also use `weights=VGG19_Weights.DEFAULT` to get the most up-to-date weights.\n",
      "  warnings.warn(msg)\n",
      "Downloading: \"https://download.pytorch.org/models/vgg19-dcbb9e9d.pth\" to /Users/bahk_insung/.cache/torch/hub/checkpoints/vgg19-dcbb9e9d.pth\n"
     ]
    },
    {
     "data": {
      "application/vnd.jupyter.widget-view+json": {
       "model_id": "150582cee94d45c0924f4d49f15b0994",
       "version_major": 2,
       "version_minor": 0
      },
      "text/plain": [
       "  0%|          | 0.00/548M [00:00<?, ?B/s]"
      ]
     },
     "metadata": {},
     "output_type": "display_data"
    }
   ],
   "source": [
    "from torchvision import transforms\n",
    "from torchvision import models\n",
    "from PIL import Image\n",
    "\n",
    "import matplotlib.pyplot as plt\n",
    "\n",
    "import torch.nn.functional as F \n",
    "import torch.optim as optim\n",
    "import torch.nn as nn\n",
    "import torch\n",
    "\n",
    "device = torch.device(\"mps\")\n",
    "cnn = models.vgg19(pretrained=True).features.to(device).eval()"
   ]
  },
  {
   "cell_type": "code",
   "execution_count": 4,
   "metadata": {},
   "outputs": [],
   "source": [
    "class ContentLoss(nn.Module):\n",
    "    def __init__(self, target):\n",
    "        super(ContentLoss, self).__init__()\n",
    "        self.target = target\n",
    "\n",
    "    def forward(self, x):\n",
    "        self.loss = F.mse_loss(x, self.target)\n",
    "        return input"
   ]
  },
  {
   "cell_type": "code",
   "execution_count": 5,
   "metadata": {},
   "outputs": [],
   "source": [
    "def gram_matrix(x):\n",
    "    a, b, c, d = x.size()\n",
    "    features = x.view(a * b, c * d)\n",
    "    G = torch.mm(features, features.t())\n",
    "    return G.div(a * b, c * d)"
   ]
  },
  {
   "cell_type": "code",
   "execution_count": 7,
   "metadata": {},
   "outputs": [],
   "source": [
    "class StyleLoss(nn.Module):\n",
    "    def __init__(self, target_features):\n",
    "        super(StyleLoss, self).__init__()\n",
    "        self.target = gram_matrix(target_features).detach()\n",
    "\n",
    "    def forward(self, x):\n",
    "        G = gram_matrix(x)\n",
    "        self.loss = F.mse_loss(G, self.target)\n",
    "        return x\n",
    "\n",
    "class Normalization(nn.Module):\n",
    "    def __init__(self, mean, std):\n",
    "        super(Normalization, self).__init__()\n",
    "        self.mean = mean.view(-1, 1, 1)\n",
    "        self.std  = std.view(-1, 1, 1)\n",
    "        \n",
    "    def forward(self, img):\n",
    "        return (img - self.mean) / self.std"
   ]
  },
  {
   "cell_type": "code",
   "execution_count": 8,
   "metadata": {},
   "outputs": [],
   "source": [
    "def getStyleModelAndLosses(cnn, styleImg, contentImg):\n",
    "    content_layers = ['conv_4']\n",
    "    style_layers = ['conv_1', 'conv_2', 'conv_3', 'conv_4', 'conv_5']\n",
    "    normalization_mean = torch.tensor([0.485, 0.224, 0.225]).to(device)\n",
    "    normalization_std  = torch.tensor([0.229, 0.224, 0.225]).to(device)\n",
    "    normalization      = Normalization(normalization_mean, normalization_std).to(device)\n",
    "    contentLoss, styleLoss = [], []\n",
    "    \n",
    "    model = nn.Sequential(normalization)\n",
    "    layerIndex = 0\n",
    "\n",
    "    for layer in cnn.children():\n",
    "        # Check the layer is available \n",
    "        if isinstance(layer, nn.Conv2d):\n",
    "            layerIndex += 1\n",
    "            name = 'conv_{}'.format(layerIndex)\n",
    "\n",
    "        elif isinstance(layer, nn.ReLU):\n",
    "            name = 'relu_{}'.format(layerIndex)\n",
    "            layer = nn.ReLU(inplace=False)\n",
    "\n",
    "        elif isinstance(layer, nn.MaxPool2d):\n",
    "            name = 'maxpool_{}'.format(layerIndex)\n",
    "        \n",
    "        elif isinstance(layer, nn.BatchNorm2d):\n",
    "            name = 'bn_{}'.format(layerIndex)\n",
    "        \n",
    "        # Excpetion case\n",
    "        else:\n",
    "            raise RuntimeError('Unreconginzed layer : {}'.format(layer.__class__.__name__))\n",
    "    \n",
    "        model.add_module(name, layer)\n",
    "        if name in content_layers:\n",
    "            target = model(contentImg)\n",
    "            contentLossItem = ContentLoss(target)\n",
    "            model.add_module(\"content_loss_{}\".format(layerIndex), contentLossItem)\n",
    "            contentLoss.append(contentLossItem)\n",
    "\n",
    "        if name in style_layers:\n",
    "            targetFeature = model(styleImg)\n",
    "            styleLossItem = StyleLoss(targetFeature)\n",
    "            model.add_module(\"style_loss_{}\".format(layerIndex), styleLossItem)\n",
    "            styleLoss.append(styleLossItem)\n",
    "\n",
    "        for i in range(len(model) -1, -1, -1):\n",
    "            if isinstance(model[i], ContentLoss) or isinstance(model[i], StyleLoss):\n",
    "                break\n",
    "        \n",
    "        model = model[:(i + 1)]\n",
    "        return model, styleLoss, contentLoss\n"
   ]
  },
  {
   "cell_type": "code",
   "execution_count": null,
   "metadata": {},
   "outputs": [],
   "source": [
    "def runStyleTransfer(cnn, contentImg, styleImg, num_steps=300, style_weight=100000, content_weight=1):\n",
    "    inputImg = contentImg.clone().detach().require_grad_(True)\n",
    "    model, styleLosses, contentLosses = getStyleModelAndLosses(cnn, styleImg, contentImg)\n",
    "    optimizer = optim.LBFGS()"
   ]
  }
 ],
 "metadata": {
  "kernelspec": {
   "display_name": "Python 3",
   "language": "python",
   "name": "python3"
  },
  "language_info": {
   "codemirror_mode": {
    "name": "ipython",
    "version": 3
   },
   "file_extension": ".py",
   "mimetype": "text/x-python",
   "name": "python",
   "nbconvert_exporter": "python",
   "pygments_lexer": "ipython3",
   "version": "3.10.8"
  },
  "orig_nbformat": 4,
  "vscode": {
   "interpreter": {
    "hash": "cbd03b52000256fffc5622fb1d5afa03ae770321afbfaac74e08013d54c137c2"
   }
  }
 },
 "nbformat": 4,
 "nbformat_minor": 2
}
