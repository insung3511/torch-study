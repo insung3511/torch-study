{
 "cells": [
  {
   "cell_type": "code",
   "execution_count": 1,
   "metadata": {},
   "outputs": [
    {
     "name": "stderr",
     "output_type": "stream",
     "text": [
      "/Users/bahk_insung/miniconda3/lib/python3.10/site-packages/torchvision/io/image.py:13: UserWarning: Failed to load image Python extension: dlopen(/Users/bahk_insung/miniconda3/lib/python3.10/site-packages/torchvision/image.so, 0x0006): Symbol not found: __ZN2at4_ops19empty_memory_format4callEN3c108ArrayRefIxEENS2_8optionalINS2_10ScalarTypeEEENS5_INS2_6LayoutEEENS5_INS2_6DeviceEEENS5_IbEENS5_INS2_12MemoryFormatEEE\n",
      "  Referenced from: <F0D48035-EF9E-3141-9F63-566920E60D7C> /Users/bahk_insung/miniconda3/lib/python3.10/site-packages/torchvision/image.so\n",
      "  Expected in:     <11CA4EBF-5A84-3662-A35A-A039CEE97F5E> /Users/bahk_insung/miniconda3/lib/python3.10/site-packages/torch/lib/libtorch_cpu.dylib\n",
      "  warn(f\"Failed to load image Python extension: {e}\")\n"
     ]
    }
   ],
   "source": [
    "from torch.utils.data import DataLoader\n",
    "\n",
    "from tqdm import tqdm\n",
    "\n",
    "import torchvision.transforms as transforms\n",
    "import torchvision\n",
    "\n",
    "import torch.nn.functional as F\n",
    "import torch.optim as optim\n",
    "import torch.nn as nn \n",
    "import torch\n",
    "\n",
    "import matplotlib.pyplot as plt\n",
    "import numpy as np"
   ]
  },
  {
   "cell_type": "code",
   "execution_count": 2,
   "metadata": {},
   "outputs": [
    {
     "name": "stdout",
     "output_type": "stream",
     "text": [
      "Device selected : mps\n"
     ]
    }
   ],
   "source": [
    "device = torch.device('mps')\n",
    "print(f\"Device selected : {device}\")"
   ]
  },
  {
   "attachments": {},
   "cell_type": "markdown",
   "metadata": {},
   "source": [
    "# Load datasets"
   ]
  },
  {
   "cell_type": "code",
   "execution_count": 3,
   "metadata": {},
   "outputs": [
    {
     "name": "stdout",
     "output_type": "stream",
     "text": [
      "Downloading https://www.cs.toronto.edu/~kriz/cifar-10-python.tar.gz to ./data/cifar-10-python.tar.gz\n"
     ]
    },
    {
     "data": {
      "application/vnd.jupyter.widget-view+json": {
       "model_id": "91665dd47b82494bb5a83a1c7f1206e3",
       "version_major": 2,
       "version_minor": 0
      },
      "text/plain": [
       "  0%|          | 0/170498071 [00:00<?, ?it/s]"
      ]
     },
     "metadata": {},
     "output_type": "display_data"
    },
    {
     "name": "stdout",
     "output_type": "stream",
     "text": [
      "Extracting ./data/cifar-10-python.tar.gz to ./data\n",
      "Files already downloaded and verified\n"
     ]
    }
   ],
   "source": [
    "transforms = transforms.Compose([transforms.ToTensor(), transforms.Normalize((0.5, 0.5, 0.5), (0.5, 0.5, 0.5))])\n",
    "\n",
    "trainset   = torchvision.datasets.CIFAR10(root='./data', train=True, download=True, transform=transforms)\n",
    "trainloader = torch.utils.data.DataLoader(trainset, batch_size=32, shuffle=True)\n",
    "\n",
    "testset    = torchvision.datasets.CIFAR10(root='./data', train=False, download=True, transform=transforms)\n",
    "testloader = torch.utils.data.DataLoader(testset, batch_size=32, shuffle=True)"
   ]
  },
  {
   "attachments": {},
   "cell_type": "markdown",
   "metadata": {},
   "source": [
    "# Model Network"
   ]
  },
  {
   "cell_type": "code",
   "execution_count": 4,
   "metadata": {},
   "outputs": [],
   "source": [
    "class AlexNet(nn.Module):\n",
    "    def __init__(self):\n",
    "        super(AlexNet, self).__init__()\n",
    "        self.features = nn.Sequential(\n",
    "            nn.Conv2d(3, 64, 3),                nn.ReLU(), nn.MaxPool2d(2, 2),\n",
    "            nn.Conv2d(64, 192, 3),              nn.ReLU(), nn.MaxPool2d(2, 2),\n",
    "            nn.Conv2d(192, 384, 3, padding=1),  nn.ReLU(), nn.MaxPool2d(2, 2),\n",
    "            nn.Conv2d(384, 256, 3, padding=1),  nn.ReLU(),\n",
    "            nn.Conv2d(256, 256, 1),             nn.ReLU(), nn.MaxPool2d(2, 2)\n",
    "        )\n",
    "\n",
    "        self.classifier = nn.Sequential(\n",
    "            nn.Dropout(0.5),\n",
    "            nn.Linear(256, 1024),                 nn.ReLU(),\n",
    "            nn.Dropout(0.5),\n",
    "            nn.Linear(1024, 512),               nn.ReLU(),\n",
    "            nn.Linear(512, 10)\n",
    "        )\n",
    "\n",
    "    def forward(self, x):\n",
    "        x = self.features(x)\n",
    "        x = x.view(-1, 256)\n",
    "        x = self.classifier(x)\n",
    "        return x"
   ]
  },
  {
   "attachments": {},
   "cell_type": "markdown",
   "metadata": {},
   "source": [
    "# Training"
   ]
  },
  {
   "cell_type": "code",
   "execution_count": 5,
   "metadata": {},
   "outputs": [],
   "source": [
    "criterion = nn.CrossEntropyLoss()\n",
    "alexnet = AlexNet().to(device)\n",
    "optimizer = optim.Adam(alexnet.parameters(), lr=1e-3)"
   ]
  },
  {
   "cell_type": "code",
   "execution_count": 6,
   "metadata": {},
   "outputs": [
    {
     "name": "stdout",
     "output_type": "stream",
     "text": [
      "1 loss : 1.6905853461548066\n",
      "2 loss : 1.2600256709890798\n",
      "3 loss : 1.076572484834333\n",
      "4 loss : 0.9551785144375748\n",
      "5 loss : 0.8611991989521056\n",
      "6 loss : 0.7881472109127563\n",
      "7 loss : 0.7248051863447337\n",
      "8 loss : 0.6702468793455485\n",
      "9 loss : 0.6162167447199062\n",
      "10 loss : 0.5685944037222359\n",
      "11 loss : 0.5417570778128815\n",
      "12 loss : 0.4970723693702973\n",
      "13 loss : 0.4685308404996162\n",
      "14 loss : 0.4364138571825534\n",
      "15 loss : 0.40925303569405563\n",
      "16 loss : 0.38554085752261197\n",
      "17 loss : 0.3705777577884252\n",
      "18 loss : 0.3486227377312483\n",
      "19 loss : 0.3248400643077022\n",
      "20 loss : 0.3182562705360577\n",
      "21 loss : 0.30453472194528197\n",
      "22 loss : 0.2853500266104784\n",
      "23 loss : 0.27465874336002083\n",
      "24 loss : 0.2641954131481629\n",
      "25 loss : 0.25597859042329013\n",
      "26 loss : inf\n",
      "27 loss : 0.22899918738390324\n",
      "28 loss : 0.23673730590562464\n",
      "29 loss : 0.2244813471302028\n",
      "30 loss : 0.21297801627675625\n",
      "31 loss : 0.2133914568617592\n",
      "32 loss : 0.20222996847205918\n",
      "33 loss : 0.21054453959242247\n",
      "34 loss : 0.1997318678362425\n",
      "35 loss : 0.19783275719089713\n",
      "36 loss : 0.1924247155299676\n",
      "37 loss : 0.1764473383234765\n",
      "38 loss : 0.17753599365706593\n",
      "39 loss : 0.18168938017220274\n",
      "40 loss : 0.17007604276928848\n",
      "41 loss : 0.18588036261190571\n",
      "42 loss : 0.1747443833046069\n",
      "43 loss : 0.167548516496059\n",
      "44 loss : 0.17047287144060674\n",
      "45 loss : 0.200764358455407\n",
      "46 loss : 0.15027485299382212\n",
      "47 loss : inf\n",
      "48 loss : 0.15236053622873102\n",
      "49 loss : inf\n",
      "50 loss : inf\n"
     ]
    }
   ],
   "source": [
    "loss_ = list()\n",
    "n = len(trainloader)\n",
    "\n",
    "for epoch in range(50):\n",
    "    running_loss = 0.0\n",
    "    for data in trainloader:\n",
    "        inputs, labels = data[0].to(device), data[1].to(device)\n",
    "\n",
    "        # Forward\n",
    "        optimizer.zero_grad()\n",
    "        outputs = alexnet(inputs)\n",
    "        loss = criterion(outputs, labels)\n",
    "\n",
    "        # Backward\n",
    "        loss.backward()\n",
    "        optimizer.step()\n",
    "        \n",
    "        running_loss += loss.item()\n",
    "    \n",
    "    loss_.append(running_loss / n)\n",
    "    print(f\"{epoch + 1} loss : {running_loss / len(trainloader)}\")\n"
   ]
  },
  {
   "attachments": {},
   "cell_type": "markdown",
   "metadata": {},
   "source": [
    "# Result Visualization"
   ]
  },
  {
   "cell_type": "code",
   "execution_count": 7,
   "metadata": {},
   "outputs": [
    {
     "data": {
      "image/png": "[encoded data removed]",
      "text/plain": [
       "<Figure size 640x480 with 1 Axes>"
      ]
     },
     "metadata": {},
     "output_type": "display_data"
    }
   ],
   "source": [
    "plt.plot(loss_)\n",
    "plt.title(\"Training Loss\")\n",
    "plt.xlabel(\"epoch\")\n",
    "plt.show()"
   ]
  },
  {
   "attachments": {},
   "cell_type": "markdown",
   "metadata": {},
   "source": [
    "# Model save"
   ]
  },
  {
   "cell_type": "code",
   "execution_count": null,
   "metadata": {},
   "outputs": [],
   "source": []
  }
 ],
 "metadata": {
  "kernelspec": {
   "display_name": "base",
   "language": "python",
   "name": "python3"
  },
  "language_info": {
   "codemirror_mode": {
    "name": "ipython",
    "version": 3
   },
   "file_extension": ".py",
   "mimetype": "text/x-python",
   "name": "python",
   "nbconvert_exporter": "python",
   "pygments_lexer": "ipython3",
   "version": "3.10.8"
  },
  "orig_nbformat": 4,
  "vscode": {
   "interpreter": {
    "hash": "cbd03b52000256fffc5622fb1d5afa03ae770321afbfaac74e08013d54c137c2"
   }
  }
 },
 "nbformat": 4,
 "nbformat_minor": 2
}
