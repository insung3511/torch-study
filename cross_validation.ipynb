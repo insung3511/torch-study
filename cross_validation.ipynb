{
 "cells": [
  {
   "cell_type": "code",
   "execution_count": 12,
   "metadata": {},
   "outputs": [],
   "source": [
    "from sklearn.model_selection import train_test_split\n",
    "from sklearn.model_selection import KFold\n",
    "\n",
    "from sklearn.metrics import mean_squared_error\n",
    "\n",
    "from torch.utils.data import SubsetRandomSampler\n",
    "from torch.utils.data import DataLoader\n",
    "from torch.utils.data import Dataset\n",
    "from torch import optim \n",
    "from torch import nn \n",
    "\n",
    "import matplotlib.pyplot as plt\n",
    "import torch.nn.functional as F\n",
    "import pandas as pd\n",
    "import numpy as np\n",
    "import torch"
   ]
  },
  {
   "cell_type": "code",
   "execution_count": 3,
   "metadata": {},
   "outputs": [
    {
     "name": "stdout",
     "output_type": "stream",
     "text": [
      "\n",
      "X shape : (506, 13)\n",
      "y shape : (506, 1)\n",
      "\n"
     ]
    }
   ],
   "source": [
    "df = pd.read_csv('./data/reg.csv', index_col=[0])\n",
    "X = df.drop('Price', axis=1).to_numpy()\n",
    "y = df['Price'].to_numpy().reshape((-1, 1))\n",
    "\n",
    "print(f'''\n",
    "X shape : {X.shape}\n",
    "y shape : {y.shape}\n",
    "''')"
   ]
  },
  {
   "cell_type": "code",
   "execution_count": 4,
   "metadata": {},
   "outputs": [],
   "source": [
    "class TensorData(Dataset):\n",
    "    def __init__(self, x, y):\n",
    "        self.x = torch.FloatTensor(x)\n",
    "        self.y = torch.FloatTensor(y)\n",
    "        self.len = self.y.shape[0]\n",
    "\n",
    "    def __getitem__(self, index):\n",
    "        return self.x[index], self.y[index]\n",
    "\n",
    "    def __len__(self):\n",
    "        return self.len"
   ]
  },
  {
   "cell_type": "code",
   "execution_count": 6,
   "metadata": {},
   "outputs": [
    {
     "name": "stdout",
     "output_type": "stream",
     "text": [
      " \n",
      "X train shape : (151, 13)\n",
      "y train shape : (151, 1)\n",
      "\n",
      "X_test shape : (355, 13)\n",
      "y test shape : (355, 1)\n",
      "\n"
     ]
    }
   ],
   "source": [
    "X_train, X_test, y_train, y_test = train_test_split(X, y, test_size=0.7)\n",
    "print(f''' \n",
    "X train shape : {X_train.shape}\n",
    "y train shape : {y_train.shape}\n",
    "\n",
    "X_test shape : {X_test.shape}\n",
    "y test shape : {y_test.shape}\n",
    "''')"
   ]
  },
  {
   "cell_type": "code",
   "execution_count": 7,
   "metadata": {},
   "outputs": [],
   "source": [
    "trainset = TensorData(X_train, y_train)\n",
    "testset  = TensorData(X_test,  y_test)\n",
    "testloader = DataLoader(testset, batch_size=32, shuffle=True)"
   ]
  },
  {
   "cell_type": "code",
   "execution_count": 15,
   "metadata": {},
   "outputs": [],
   "source": [
    "class Regressor(nn.Module):\n",
    "    def __init__(self):\n",
    "        super().__init__()\n",
    "        self.fc1 = nn.Linear(13, 50, bias=True)\n",
    "        self.fc2 = nn.Linear(50, 30, bias=True)\n",
    "        self.fc3 = nn.Linear(30, 1, bias=True)\n",
    "\n",
    "    def forward(self, x):\n",
    "        x = self.fc1(x)\n",
    "        x = self.fc2(x)\n",
    "        x = self.fc3(x)\n",
    "        return x "
   ]
  },
  {
   "cell_type": "code",
   "execution_count": 16,
   "metadata": {},
   "outputs": [],
   "source": [
    "kfold = KFold(n_splits=3, shuffle=True)\n",
    "criterion = nn.MSELoss()"
   ]
  },
  {
   "cell_type": "code",
   "execution_count": 21,
   "metadata": {},
   "outputs": [],
   "source": [
    "def evaluation(dataloader):\n",
    "    prediction = torch.tensor([], dtype=torch.float)\n",
    "    actual     = torch.tensor([], dtype=torch.float)\n",
    "\n",
    "    with torch.no_grad():\n",
    "        model.eval()\n",
    "        for data in dataloader:\n",
    "            inputs, value = data\n",
    "            outputs = model(inputs)\n",
    "\n",
    "            prediction = torch.cat((prediction, outputs), 0)\n",
    "            actual  = torch.cat((actual, value), 0)\n",
    "\n",
    "    prediction = prediction.numpy()\n",
    "    actual = actual.numpy()\n",
    "\n",
    "    rmse = np.sqrt(mean_squared_error(prediction, actual))\n",
    "    model.train()\n",
    "    return rmse"
   ]
  },
  {
   "cell_type": "code",
   "execution_count": 25,
   "metadata": {},
   "outputs": [
    {
     "name": "stdout",
     "output_type": "stream",
     "text": [
      "K-Fold 0, Train Loss : 0.11429999768733978, Validation Loss : 0.14730000495910645\n",
      "K-Fold 1, Train Loss : 0.12139999866485596, Validation Loss : 0.10379999876022339\n",
      "K-Fold 2, Train Loss : 0.10520000010728836, Validation Loss : 0.15049999952316284\n"
     ]
    }
   ],
   "source": [
    "validation_loss = list()\n",
    "for fold, (train_idx, val_idx) in enumerate(kfold.split(trainset)):\n",
    "    train_subsampler = SubsetRandomSampler(train_idx)\n",
    "    val_subsampler   = SubsetRandomSampler(val_idx)\n",
    "    \n",
    "    trainloader = DataLoader(trainset, batch_size=32, sampler=train_subsampler)\n",
    "    valloader   = DataLoader(trainset, batch_size=32, sampler=val_subsampler)\n",
    "\n",
    "    model = Regressor()\n",
    "    optimizer = optim.Adam(model.parameters(), lr=0.001, weight_decay=1e-7)\n",
    "\n",
    "    for epoch in range(400):\n",
    "        for data in trainloader:\n",
    "            inputs, values = data\n",
    "            optimizer.zero_grad()\n",
    "\n",
    "            outputs = model(inputs)\n",
    "            loss = criterion(outputs, values)\n",
    "            loss.backward()\n",
    "            optimizer.step()\n",
    "\n",
    "    train_rmse = evaluation(trainloader)\n",
    "    val_rmse   = evaluation(valloader)\n",
    "    validation_loss.append(val_rmse)\n",
    "\n",
    "    print(f\"K-Fold {fold}, Train Loss : {round(train_rmse, 4)}, Validation Loss : {round(val_rmse, 4)}\")"
   ]
  },
  {
   "cell_type": "code",
   "execution_count": 26,
   "metadata": {},
   "outputs": [
    {
     "name": "stdout",
     "output_type": "stream",
     "text": [
      "[0.14725107, 0.10381396, 0.15053947]\n"
     ]
    }
   ],
   "source": [
    "print(validation_loss)"
   ]
  },
  {
   "cell_type": "code",
   "execution_count": 27,
   "metadata": {},
   "outputs": [
    {
     "name": "stdout",
     "output_type": "stream",
     "text": [
      "Validation score : 0.1339000016450882, +- 0.021299999207258224\n"
     ]
    }
   ],
   "source": [
    "validation_loss = np.array(validation_loss)\n",
    "mean            = np.mean(validation_loss)\n",
    "std             = np.std(validation_loss)\n",
    "print(f\"Validation score : {round(mean, 4)}, +- {round(std, 4)}\")"
   ]
  }
 ],
 "metadata": {
  "kernelspec": {
   "display_name": "base",
   "language": "python",
   "name": "python3"
  },
  "language_info": {
   "codemirror_mode": {
    "name": "ipython",
    "version": 3
   },
   "file_extension": ".py",
   "mimetype": "text/x-python",
   "name": "python",
   "nbconvert_exporter": "python",
   "pygments_lexer": "ipython3",
   "version": "3.10.8"
  },
  "orig_nbformat": 4,
  "vscode": {
   "interpreter": {
    "hash": "cbd03b52000256fffc5622fb1d5afa03ae770321afbfaac74e08013d54c137c2"
   }
  }
 },
 "nbformat": 4,
 "nbformat_minor": 2
}
