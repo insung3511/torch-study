{
 "cells": [
  {
   "attachments": {},
   "cell_type": "markdown",
   "metadata": {},
   "source": [
    "# MobileNet - Depthwise Seperable Convoltion"
   ]
  },
  {
   "cell_type": "code",
   "execution_count": 1,
   "metadata": {},
   "outputs": [
    {
     "name": "stderr",
     "output_type": "stream",
     "text": [
      "/Users/bahk_insung/miniconda3/lib/python3.10/site-packages/torchvision/io/image.py:13: UserWarning: Failed to load image Python extension: dlopen(/Users/bahk_insung/miniconda3/lib/python3.10/site-packages/torchvision/image.so, 0x0006): Symbol not found: __ZN2at4_ops19empty_memory_format4callEN3c108ArrayRefIxEENS2_8optionalINS2_10ScalarTypeEEENS5_INS2_6LayoutEEENS5_INS2_6DeviceEEENS5_IbEENS5_INS2_12MemoryFormatEEE\n",
      "  Referenced from: <F0D48035-EF9E-3141-9F63-566920E60D7C> /Users/bahk_insung/miniconda3/lib/python3.10/site-packages/torchvision/image.so\n",
      "  Expected in:     <44B645FB-F027-3EE5-86D7-DBF8E2FC6264> /Users/bahk_insung/miniconda3/lib/python3.10/site-packages/torch/lib/libtorch_cpu.dylib\n",
      "  warn(f\"Failed to load image Python extension: {e}\")\n"
     ]
    }
   ],
   "source": [
    "from torch.utils.data import DataLoader, Dataset\n",
    "from torchvision.datasets import CIFAR100\n",
    "from torchvision import transforms\n",
    "from torch.utils import data\n",
    "\n",
    "import torch.optim as optim\n",
    "import torch.nn as nn\n",
    "import torchvision\n",
    "import torch\n",
    "\n",
    "import matplotlib.pyplot as plt\n",
    "import numpy as np\n",
    "\n",
    "BATCH_SIZE = 32"
   ]
  },
  {
   "cell_type": "code",
   "execution_count": 2,
   "metadata": {},
   "outputs": [
    {
     "name": "stdout",
     "output_type": "stream",
     "text": [
      "Files already downloaded and verified\n",
      "Downloading https://www.cs.toronto.edu/~kriz/cifar-100-python.tar.gz to ./data/cifar-100-python.tar.gz\n"
     ]
    },
    {
     "data": {
      "application/vnd.jupyter.widget-view+json": {
       "model_id": "165ef80eea6246ee8d24114a08511c23",
       "version_major": 2,
       "version_minor": 0
      },
      "text/plain": [
       "  0%|          | 0/169001437 [00:00<?, ?it/s]"
      ]
     },
     "metadata": {},
     "output_type": "display_data"
    },
    {
     "name": "stdout",
     "output_type": "stream",
     "text": [
      "Extracting ./data/cifar-100-python.tar.gz to ./data/\n"
     ]
    }
   ],
   "source": [
    "train_dataset = CIFAR100(root='../data/', train=True, download=True, transform=transforms.ToTensor())\n",
    "train_dataloader = DataLoader(train_dataset, batch_size=BATCH_SIZE, shuffle=True)\n",
    "\n",
    "test_dataset = CIFAR100(root='./data/', train=False, download=True, transform=transforms.ToTensor())\n",
    "test_dataloader = DataLoader(test_dataset, batch_size=BATCH_SIZE)"
   ]
  },
  {
   "cell_type": "code",
   "execution_count": 17,
   "metadata": {},
   "outputs": [
    {
     "data": {
      "text/plain": [
       "(32, 32, 3)"
      ]
     },
     "execution_count": 17,
     "metadata": {},
     "output_type": "execute_result"
    }
   ],
   "source": [
    "train_dataset.data[-1, :, :, ].shape"
   ]
  },
  {
   "cell_type": "code",
   "execution_count": 18,
   "metadata": {},
   "outputs": [
    {
     "data": {
      "image/png": "[encoded data removed]",
      "text/plain": [
       "<Figure size 640x480 with 1 Axes>"
      ]
     },
     "metadata": {},
     "output_type": "display_data"
    }
   ],
   "source": [
    "plt.imshow(train_dataset.data[-1, :, :, ])\n",
    "plt.show()"
   ]
  },
  {
   "attachments": {},
   "cell_type": "markdown",
   "metadata": {},
   "source": [
    "## Depthwise Convoltion\n",
    "\n",
    "MobileNet에서 가장 중요하다고 하는 부분 중 일부인 Depthwise Convolution 은 Depthwise Seperable Convolution 의 일부 중 하나이다. 기존 모델과의 가장 큰 차이는 각 채널을 따로따로 연산하여 합친다는 것이다. 아래 코드를 통해 구현을 해보겠다."
   ]
  },
  {
   "cell_type": "code",
   "execution_count": 4,
   "metadata": {},
   "outputs": [],
   "source": [
    "class DepthwiseConv(nn.Module):\n",
    "    def __init__(self):\n",
    "        super(DepthwiseConv, self).__init__()\n",
    "        self.depthwise_conv = nn.Sequential(\n",
    "            nn.Conv2d(3, 64, 3, stride=2),\n",
    "            nn.BatchNorm2d(64),\n",
    "            nn.ReLU(),\n",
    "        )\n",
    "\n",
    "    def forward(self, x):\n",
    "        x1, x2, x3 = x[:, :, :, 0], x[:, :, :, 1], x[:, :, :, 2]\n",
    "        x1 = self.depthwise_conv(x1)\n",
    "        x2 = self.depthwise_conv(x2)\n",
    "        x3 = self.depthwise_conv(x3)\n",
    "        x = torch.cat((x1, x2, x3), dim=3)\n",
    "        return x\n"
   ]
  },
  {
   "cell_type": "code",
   "execution_count": 31,
   "metadata": {},
   "outputs": [
    {
     "name": "stderr",
     "output_type": "stream",
     "text": [
      "Clipping input data to the valid range for imshow with RGB data ([0..1] for floats or [0..255] for integers).\n"
     ]
    },
    {
     "data": {
      "image/png": "[encoded data removed]",
      "text/plain": [
       "<Figure size 640x480 with 1 Axes>"
      ]
     },
     "metadata": {},
     "output_type": "display_data"
    }
   ],
   "source": [
    "simple_img_data = torch.randn((1, 3, 32, 32))\n",
    "plt.imshow(simple_img_data.view(32, 32, 3))\n",
    "plt.show()"
   ]
  },
  {
   "cell_type": "code",
   "execution_count": 47,
   "metadata": {},
   "outputs": [
    {
     "name": "stdout",
     "output_type": "stream",
     "text": [
      "torch.Size([1, 1, 32, 32]) torch.Size([1, 1, 32, 32]) torch.Size([1, 1, 32, 32])\n"
     ]
    }
   ],
   "source": [
    "depthwise_simple_64 = nn.Sequential(\n",
    "    nn.Conv2d(1, 32, 3, stride=1),\n",
    "    nn.BatchNorm2d(32),\n",
    "    nn.ReLU(),\n",
    ")\n",
    "\n",
    "simple_data_1 = simple_img_data[:, 0, :, :, ].view(1, 1, 32, 32)     # R\n",
    "simple_data_2 = simple_img_data[:, 1, :, :, ].view(1, 1, 32, 32)     # G\n",
    "simple_data_3 = simple_img_data[:, 2, :, :, ].view(1, 1, 32, 32)     # B\n",
    "print(simple_data_1.shape, simple_data_2.shape, simple_data_3.shape)"
   ]
  },
  {
   "cell_type": "code",
   "execution_count": 48,
   "metadata": {},
   "outputs": [
    {
     "name": "stdout",
     "output_type": "stream",
     "text": [
      "torch.Size([1, 32, 30, 30]) torch.Size([1, 32, 30, 30]) torch.Size([1, 32, 30, 30])\n",
      "torch.Size([3, 32, 30, 30])\n"
     ]
    }
   ],
   "source": [
    "output_1 = depthwise_simple_64(simple_data_1)\n",
    "output_2 = depthwise_simple_64(simple_data_2)\n",
    "output_3 = depthwise_simple_64(simple_data_3)\n",
    "print(output_1.shape, output_2.shape, output_3.shape)\n",
    "\n",
    "concated_output = torch.cat((output_1, output_2, output_3))\n",
    "print(concated_output.shape)"
   ]
  },
  {
   "cell_type": "code",
   "execution_count": 49,
   "metadata": {},
   "outputs": [
    {
     "name": "stdout",
     "output_type": "stream",
     "text": [
      "torch.Size([3, 32, 32, 32])\n"
     ]
    }
   ],
   "source": [
    "pointwise_simple = nn.Sequential(\n",
    "    nn.Conv2d(32, 32, 1, stride=1, padding=1),\n",
    "    nn.BatchNorm2d(32),\n",
    "    nn.ReLU(),\n",
    ")\n",
    "\n",
    "output_4 = pointwise_simple(concated_output)\n",
    "print(output_4.shape)"
   ]
  }
 ],
 "metadata": {
  "kernelspec": {
   "display_name": "Python 3",
   "language": "python",
   "name": "python3"
  },
  "language_info": {
   "codemirror_mode": {
    "name": "ipython",
    "version": 3
   },
   "file_extension": ".py",
   "mimetype": "text/x-python",
   "name": "python",
   "nbconvert_exporter": "python",
   "pygments_lexer": "ipython3",
   "version": "3.10.8"
  },
  "orig_nbformat": 4
 },
 "nbformat": 4,
 "nbformat_minor": 2
}
