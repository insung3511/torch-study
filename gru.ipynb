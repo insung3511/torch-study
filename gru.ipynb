{
 "cells": [
  {
   "cell_type": "code",
   "execution_count": 1,
   "metadata": {},
   "outputs": [],
   "source": [
    "from sklearn.preprocessing import MinMaxScaler\n",
    "\n",
    "from torch.utils.data import TensorDataset\n",
    "from torch.utils.data import ConcatDataset\n",
    "from torch.utils.data import DataLoader\n",
    "\n",
    "import torch.optim as optim\n",
    "import torch.nn as nn\n",
    "import torch\n",
    "\n",
    "import matplotlib.pyplot as plt\n",
    "import pandas as pd\n",
    "import numpy as np "
   ]
  },
  {
   "cell_type": "code",
   "execution_count": 2,
   "metadata": {},
   "outputs": [],
   "source": [
    "device = torch.device('cpu')\n",
    "\n",
    "BATCH_SIZE = 20\n",
    "EPOCH = 3000\n",
    "LEARNING_RATE = 1e-3"
   ]
  },
  {
   "attachments": {},
   "cell_type": "markdown",
   "metadata": {},
   "source": [
    "# Read Data"
   ]
  },
  {
   "cell_type": "code",
   "execution_count": 3,
   "metadata": {},
   "outputs": [
    {
     "data": {
      "text/html": [
       "<div>\n",
       "<style scoped>\n",
       "    .dataframe tbody tr th:only-of-type {\n",
       "        vertical-align: middle;\n",
       "    }\n",
       "\n",
       "    .dataframe tbody tr th {\n",
       "        vertical-align: top;\n",
       "    }\n",
       "\n",
       "    .dataframe thead th {\n",
       "        text-align: right;\n",
       "    }\n",
       "</style>\n",
       "<table border=\"1\" class=\"dataframe\">\n",
       "  <thead>\n",
       "    <tr style=\"text-align: right;\">\n",
       "      <th></th>\n",
       "      <th>Open</th>\n",
       "      <th>High</th>\n",
       "      <th>Low</th>\n",
       "      <th>Close</th>\n",
       "      <th>Adj Close</th>\n",
       "      <th>Volume</th>\n",
       "    </tr>\n",
       "  </thead>\n",
       "  <tbody>\n",
       "    <tr>\n",
       "      <th>count</th>\n",
       "      <td>431.000000</td>\n",
       "      <td>431.000000</td>\n",
       "      <td>431.000000</td>\n",
       "      <td>431.000000</td>\n",
       "      <td>431.000000</td>\n",
       "      <td>4.310000e+02</td>\n",
       "    </tr>\n",
       "    <tr>\n",
       "      <th>mean</th>\n",
       "      <td>2122.449765</td>\n",
       "      <td>2134.756032</td>\n",
       "      <td>2106.976497</td>\n",
       "      <td>2121.195427</td>\n",
       "      <td>2121.195427</td>\n",
       "      <td>6.482257e+05</td>\n",
       "    </tr>\n",
       "    <tr>\n",
       "      <th>std</th>\n",
       "      <td>159.523899</td>\n",
       "      <td>155.808986</td>\n",
       "      <td>161.926432</td>\n",
       "      <td>159.038127</td>\n",
       "      <td>159.038127</td>\n",
       "      <td>2.593637e+05</td>\n",
       "    </tr>\n",
       "    <tr>\n",
       "      <th>min</th>\n",
       "      <td>1474.449951</td>\n",
       "      <td>1516.750000</td>\n",
       "      <td>1439.430054</td>\n",
       "      <td>1457.640015</td>\n",
       "      <td>1457.640015</td>\n",
       "      <td>0.000000e+00</td>\n",
       "    </tr>\n",
       "    <tr>\n",
       "      <th>25%</th>\n",
       "      <td>2057.589966</td>\n",
       "      <td>2065.619995</td>\n",
       "      <td>2041.244995</td>\n",
       "      <td>2055.299927</td>\n",
       "      <td>2055.299927</td>\n",
       "      <td>4.406500e+05</td>\n",
       "    </tr>\n",
       "    <tr>\n",
       "      <th>50%</th>\n",
       "      <td>2132.379883</td>\n",
       "      <td>2141.270020</td>\n",
       "      <td>2119.070068</td>\n",
       "      <td>2131.239990</td>\n",
       "      <td>2131.239990</td>\n",
       "      <td>6.087000e+05</td>\n",
       "    </tr>\n",
       "    <tr>\n",
       "      <th>75%</th>\n",
       "      <td>2211.449951</td>\n",
       "      <td>2220.595092</td>\n",
       "      <td>2196.599976</td>\n",
       "      <td>2209.244995</td>\n",
       "      <td>2209.244995</td>\n",
       "      <td>8.109500e+05</td>\n",
       "    </tr>\n",
       "    <tr>\n",
       "      <th>max</th>\n",
       "      <td>2455.280029</td>\n",
       "      <td>2458.169922</td>\n",
       "      <td>2429.939941</td>\n",
       "      <td>2443.580078</td>\n",
       "      <td>2443.580078</td>\n",
       "      <td>1.984200e+06</td>\n",
       "    </tr>\n",
       "  </tbody>\n",
       "</table>\n",
       "</div>"
      ],
      "text/plain": [
       "              Open         High          Low        Close    Adj Close  \\\n",
       "count   431.000000   431.000000   431.000000   431.000000   431.000000   \n",
       "mean   2122.449765  2134.756032  2106.976497  2121.195427  2121.195427   \n",
       "std     159.523899   155.808986   161.926432   159.038127   159.038127   \n",
       "min    1474.449951  1516.750000  1439.430054  1457.640015  1457.640015   \n",
       "25%    2057.589966  2065.619995  2041.244995  2055.299927  2055.299927   \n",
       "50%    2132.379883  2141.270020  2119.070068  2131.239990  2131.239990   \n",
       "75%    2211.449951  2220.595092  2196.599976  2209.244995  2209.244995   \n",
       "max    2455.280029  2458.169922  2429.939941  2443.580078  2443.580078   \n",
       "\n",
       "             Volume  \n",
       "count  4.310000e+02  \n",
       "mean   6.482257e+05  \n",
       "std    2.593637e+05  \n",
       "min    0.000000e+00  \n",
       "25%    4.406500e+05  \n",
       "50%    6.087000e+05  \n",
       "75%    8.109500e+05  \n",
       "max    1.984200e+06  "
      ]
     },
     "execution_count": 3,
     "metadata": {},
     "output_type": "execute_result"
    }
   ],
   "source": [
    "df = pd.read_csv('./data/kospi.csv')\n",
    "df.describe()"
   ]
  },
  {
   "cell_type": "code",
   "execution_count": 4,
   "metadata": {},
   "outputs": [
    {
     "data": {
      "text/html": [
       "<div>\n",
       "<style scoped>\n",
       "    .dataframe tbody tr th:only-of-type {\n",
       "        vertical-align: middle;\n",
       "    }\n",
       "\n",
       "    .dataframe tbody tr th {\n",
       "        vertical-align: top;\n",
       "    }\n",
       "\n",
       "    .dataframe thead th {\n",
       "        text-align: right;\n",
       "    }\n",
       "</style>\n",
       "<table border=\"1\" class=\"dataframe\">\n",
       "  <thead>\n",
       "    <tr style=\"text-align: right;\">\n",
       "      <th></th>\n",
       "      <th>Open</th>\n",
       "      <th>High</th>\n",
       "      <th>Low</th>\n",
       "      <th>Close</th>\n",
       "      <th>Adj Close</th>\n",
       "      <th>Volume</th>\n",
       "    </tr>\n",
       "  </thead>\n",
       "  <tbody>\n",
       "    <tr>\n",
       "      <th>count</th>\n",
       "      <td>431.000000</td>\n",
       "      <td>431.000000</td>\n",
       "      <td>431.000000</td>\n",
       "      <td>431.000000</td>\n",
       "      <td>431.000000</td>\n",
       "      <td>431.000000</td>\n",
       "    </tr>\n",
       "    <tr>\n",
       "      <th>mean</th>\n",
       "      <td>0.660665</td>\n",
       "      <td>0.656462</td>\n",
       "      <td>0.673942</td>\n",
       "      <td>0.673018</td>\n",
       "      <td>2121.195427</td>\n",
       "      <td>0.326694</td>\n",
       "    </tr>\n",
       "    <tr>\n",
       "      <th>std</th>\n",
       "      <td>0.162642</td>\n",
       "      <td>0.165504</td>\n",
       "      <td>0.163478</td>\n",
       "      <td>0.161306</td>\n",
       "      <td>159.038127</td>\n",
       "      <td>0.130715</td>\n",
       "    </tr>\n",
       "    <tr>\n",
       "      <th>min</th>\n",
       "      <td>0.000000</td>\n",
       "      <td>0.000000</td>\n",
       "      <td>0.000000</td>\n",
       "      <td>0.000000</td>\n",
       "      <td>1457.640015</td>\n",
       "      <td>0.000000</td>\n",
       "    </tr>\n",
       "    <tr>\n",
       "      <th>25%</th>\n",
       "      <td>0.594537</td>\n",
       "      <td>0.583024</td>\n",
       "      <td>0.607581</td>\n",
       "      <td>0.606183</td>\n",
       "      <td>2055.299927</td>\n",
       "      <td>0.222079</td>\n",
       "    </tr>\n",
       "    <tr>\n",
       "      <th>50%</th>\n",
       "      <td>0.670789</td>\n",
       "      <td>0.663381</td>\n",
       "      <td>0.686152</td>\n",
       "      <td>0.683206</td>\n",
       "      <td>2131.239990</td>\n",
       "      <td>0.306774</td>\n",
       "    </tr>\n",
       "    <tr>\n",
       "      <th>75%</th>\n",
       "      <td>0.751404</td>\n",
       "      <td>0.747642</td>\n",
       "      <td>0.764424</td>\n",
       "      <td>0.762323</td>\n",
       "      <td>2209.244995</td>\n",
       "      <td>0.408704</td>\n",
       "    </tr>\n",
       "    <tr>\n",
       "      <th>max</th>\n",
       "      <td>1.000000</td>\n",
       "      <td>1.000000</td>\n",
       "      <td>1.000000</td>\n",
       "      <td>1.000000</td>\n",
       "      <td>2443.580078</td>\n",
       "      <td>1.000000</td>\n",
       "    </tr>\n",
       "  </tbody>\n",
       "</table>\n",
       "</div>"
      ],
      "text/plain": [
       "             Open        High         Low       Close    Adj Close      Volume\n",
       "count  431.000000  431.000000  431.000000  431.000000   431.000000  431.000000\n",
       "mean     0.660665    0.656462    0.673942    0.673018  2121.195427    0.326694\n",
       "std      0.162642    0.165504    0.163478    0.161306   159.038127    0.130715\n",
       "min      0.000000    0.000000    0.000000    0.000000  1457.640015    0.000000\n",
       "25%      0.594537    0.583024    0.607581    0.606183  2055.299927    0.222079\n",
       "50%      0.670789    0.663381    0.686152    0.683206  2131.239990    0.306774\n",
       "75%      0.751404    0.747642    0.764424    0.762323  2209.244995    0.408704\n",
       "max      1.000000    1.000000    1.000000    1.000000  2443.580078    1.000000"
      ]
     },
     "execution_count": 4,
     "metadata": {},
     "output_type": "execute_result"
    }
   ],
   "source": [
    "scaler = MinMaxScaler()\n",
    "df[['Open', 'High', 'Low', 'Close', 'Volume']] = scaler.fit_transform(df[['Open', 'High', 'Low', 'Close', 'Volume']])\n",
    "df.describe()"
   ]
  },
  {
   "cell_type": "code",
   "execution_count": 5,
   "metadata": {},
   "outputs": [],
   "source": [
    "X = df[['Open', 'Low', 'Volume']].values\n",
    "y = df['Close'].values"
   ]
  },
  {
   "cell_type": "code",
   "execution_count": 6,
   "metadata": {},
   "outputs": [],
   "source": [
    "def seq_data(x, y, sequence_length):\n",
    "    x_seq = []\n",
    "    y_seq = []\n",
    "    for idx in range(len(x) - sequence_length):\n",
    "        x_seq.append(x[idx : idx + sequence_length])\n",
    "        y_seq.append(y[idx + sequence_length])\n",
    "\n",
    "    return torch.FloatTensor(x_seq).to(device), torch.FloatTensor(y_seq).to(device).view(-1, 1)"
   ]
  },
  {
   "cell_type": "code",
   "execution_count": 7,
   "metadata": {},
   "outputs": [
    {
     "name": "stderr",
     "output_type": "stream",
     "text": [
      "/var/folders/_8/q_cwh5hn0s1dxsrzq2d040p80000gn/T/ipykernel_22629/2366152693.py:8: UserWarning: Creating a tensor from a list of numpy.ndarrays is extremely slow. Please consider converting the list to a single numpy.ndarray with numpy.array() before converting to a tensor. (Triggered internally at /Users/runner/work/pytorch/pytorch/pytorch/torch/csrc/utils/tensor_new.cpp:233.)\n",
      "  return torch.FloatTensor(x_seq).to(device), torch.FloatTensor(y_seq).to(device).view(-1, 1)\n"
     ]
    }
   ],
   "source": [
    "split = 200\n",
    "sequence_length = 5\n",
    "\n",
    "x_seq, y_seq = seq_data(X, y, sequence_length)"
   ]
  },
  {
   "cell_type": "code",
   "execution_count": 8,
   "metadata": {},
   "outputs": [
    {
     "name": "stdout",
     "output_type": "stream",
     "text": [
      "torch.Size([200, 5, 3]) torch.Size([200, 1])\n",
      "torch.Size([226, 5, 3]) torch.Size([226, 1])\n"
     ]
    }
   ],
   "source": [
    "X_train_seq = x_seq[:split]\n",
    "y_train_seq = y_seq[:split]\n",
    "\n",
    "X_test_seq = x_seq[split:]\n",
    "y_test_seq = y_seq[split:]\n",
    "\n",
    "print(X_train_seq.size(), y_train_seq.size())\n",
    "print(X_test_seq.size(), y_test_seq.size())"
   ]
  },
  {
   "cell_type": "code",
   "execution_count": 9,
   "metadata": {},
   "outputs": [],
   "source": [
    "train = TensorDataset(X_train_seq, y_train_seq)\n",
    "test  = TensorDataset(X_test_seq, y_test_seq)\n",
    "\n",
    "train_loader = DataLoader(dataset=train, batch_size=BATCH_SIZE, shuffle=True)\n",
    "test_loader  = DataLoader(dataset=test, batch_size=BATCH_SIZE)"
   ]
  },
  {
   "attachments": {},
   "cell_type": "markdown",
   "metadata": {},
   "source": [
    "# Modeling"
   ]
  },
  {
   "cell_type": "code",
   "execution_count": 10,
   "metadata": {},
   "outputs": [],
   "source": [
    "input_size = x_seq.size(2)\n",
    "num_layers = 2\n",
    "hidden_size = 8"
   ]
  },
  {
   "cell_type": "code",
   "execution_count": 20,
   "metadata": {},
   "outputs": [],
   "source": [
    "class GRU(nn.Module):\n",
    "    def __init__(self, input_size, hidden_size, sequence_length, num_layers, device):\n",
    "        super(GRU, self).__init__()\n",
    "        self.device = device\n",
    "        self.hidden_size = hidden_size\n",
    "        self.num_layers = num_layers\n",
    "        self.gru = nn.GRU(input_size, hidden_size, num_layers, batch_first=True)\n",
    "        self.fc = nn.Linear(hidden_size * sequence_length, 1)\n",
    "\n",
    "    def forward(self, x):\n",
    "        h0 = torch.zeros(self.num_layers, x.size()[0], self.hidden_size).to(self.device)\n",
    "        out, _ = self.gru(x, h0)\n",
    "        out = out.reshape(out.shape[0], -1)\n",
    "        out = self.fc(out)\n",
    "        return out"
   ]
  },
  {
   "cell_type": "code",
   "execution_count": 21,
   "metadata": {},
   "outputs": [],
   "source": [
    "gru_model = GRU(\n",
    "    input_size=input_size,\n",
    "    hidden_size=hidden_size,\n",
    "    sequence_length=sequence_length,\n",
    "    num_layers=num_layers,\n",
    "    device=device\n",
    ").to(device)"
   ]
  },
  {
   "cell_type": "code",
   "execution_count": 22,
   "metadata": {},
   "outputs": [],
   "source": [
    "criterion = nn.MSELoss()\n",
    "optimizer = optim.Adam(gru_model.parameters(), lr=LEARNING_RATE)"
   ]
  },
  {
   "cell_type": "code",
   "execution_count": 23,
   "metadata": {},
   "outputs": [
    {
     "name": "stdout",
     "output_type": "stream",
     "text": [
      "[Epoch : 0] Train Loss : 0.4342\tTest Loss : 0.4246\n",
      "[Epoch : 100] Train Loss : 0.0009\tTest Loss : 0.0052\n",
      "[Epoch : 200] Train Loss : 0.0007\tTest Loss : 0.0060\n",
      "[Epoch : 300] Train Loss : 0.0006\tTest Loss : 0.0057\n",
      "[Epoch : 400] Train Loss : 0.0006\tTest Loss : 0.0052\n",
      "[Epoch : 500] Train Loss : 0.0004\tTest Loss : 0.0038\n",
      "[Epoch : 600] Train Loss : 0.0004\tTest Loss : 0.0026\n",
      "[Epoch : 700] Train Loss : 0.0004\tTest Loss : 0.0029\n",
      "[Epoch : 800] Train Loss : 0.0004\tTest Loss : 0.0026\n",
      "[Epoch : 900] Train Loss : 0.0004\tTest Loss : 0.0026\n",
      "[Epoch : 1000] Train Loss : 0.0004\tTest Loss : 0.0023\n",
      "[Epoch : 1100] Train Loss : 0.0004\tTest Loss : 0.0022\n",
      "[Epoch : 1200] Train Loss : 0.0004\tTest Loss : 0.0026\n",
      "[Epoch : 1300] Train Loss : 0.0003\tTest Loss : 0.0019\n",
      "[Epoch : 1400] Train Loss : 0.0003\tTest Loss : 0.0020\n",
      "[Epoch : 1500] Train Loss : 0.0004\tTest Loss : 0.0018\n",
      "[Epoch : 1600] Train Loss : 0.0003\tTest Loss : 0.0019\n",
      "[Epoch : 1700] Train Loss : 0.0003\tTest Loss : 0.0023\n",
      "[Epoch : 1800] Train Loss : 0.0004\tTest Loss : 0.0016\n",
      "[Epoch : 1900] Train Loss : 0.0003\tTest Loss : 0.0021\n",
      "[Epoch : 2000] Train Loss : 0.0003\tTest Loss : 0.0018\n",
      "[Epoch : 2100] Train Loss : 0.0003\tTest Loss : 0.0023\n",
      "[Epoch : 2200] Train Loss : 0.0003\tTest Loss : 0.0019\n",
      "[Epoch : 2300] Train Loss : 0.0003\tTest Loss : 0.0018\n",
      "[Epoch : 2400] Train Loss : 0.0003\tTest Loss : 0.0022\n",
      "[Epoch : 2500] Train Loss : 0.0003\tTest Loss : 0.0019\n",
      "[Epoch : 2600] Train Loss : 0.0004\tTest Loss : 0.0022\n",
      "[Epoch : 2700] Train Loss : 0.0003\tTest Loss : 0.0020\n",
      "[Epoch : 2800] Train Loss : 0.0003\tTest Loss : 0.0024\n",
      "[Epoch : 2900] Train Loss : 0.0003\tTest Loss : 0.0020\n",
      "[Epoch : 3000] Train Loss : 0.0003\tTest Loss : 0.0021\n"
     ]
    }
   ],
   "source": [
    "loss_graph = list()\n",
    "val_loss_graph = list()\n",
    "n = len(train_loader)\n",
    "\n",
    "for epoch in range(EPOCH + 1):\n",
    "    running_loss = 0.0\n",
    "    for data in train_loader:\n",
    "        seq, target = data\n",
    "        out = gru_model(seq)\n",
    "        loss = criterion(out, target)\n",
    "\n",
    "        optimizer.zero_grad()\n",
    "        loss.backward()\n",
    "        optimizer.step()\n",
    "        running_loss += loss.item()\n",
    "\n",
    "    loss_graph.append(running_loss / n)\n",
    "\n",
    "    with torch.no_grad():\n",
    "        val_running_loss = 0.0\n",
    "        for data in test_loader:\n",
    "            seq, target = data\n",
    "            out = gru_model(seq)\n",
    "            loss = criterion(out, target)\n",
    "            val_running_loss += loss.item()\n",
    "        val_loss_graph.append(val_running_loss / len(test_loader))\n",
    "\n",
    "    if epoch % 100 == 0:\n",
    "        print('[Epoch : %d] Train Loss : %.4f\\tTest Loss : %.4f' % (epoch, running_loss / n, val_running_loss / len(test_loader)))"
   ]
  },
  {
   "cell_type": "code",
   "execution_count": 24,
   "metadata": {},
   "outputs": [
    {
     "data": {
      "image/png": "[encoded data removed]",
      "text/plain": [
       "<Figure size 2000x1000 with 1 Axes>"
      ]
     },
     "metadata": {},
     "output_type": "display_data"
    }
   ],
   "source": [
    "plt.figure(figsize=(20, 10))\n",
    "plt.plot(val_loss_graph)\n",
    "plt.plot(loss_graph)\n",
    "plt.show()"
   ]
  },
  {
   "attachments": {},
   "cell_type": "markdown",
   "metadata": {},
   "source": [
    "# Prediction"
   ]
  },
  {
   "cell_type": "code",
   "execution_count": 25,
   "metadata": {},
   "outputs": [],
   "source": [
    "concatdata = ConcatDataset([train, test])\n",
    "data_loader = DataLoader(dataset=concatdata, batch_size=100)\n",
    "\n",
    "with torch.no_grad():\n",
    "    pred = list()\n",
    "    gru_model.eval()\n",
    "\n",
    "    for data in data_loader:\n",
    "        seq, target = data\n",
    "        out = gru_model(seq)\n",
    "        pred += out.tolist()"
   ]
  },
  {
   "cell_type": "code",
   "execution_count": 26,
   "metadata": {},
   "outputs": [
    {
     "data": {
      "image/png": "[encoded data removed]",
      "text/plain": [
       "<Figure size 640x480 with 1 Axes>"
      ]
     },
     "metadata": {},
     "output_type": "display_data"
    }
   ],
   "source": [
    "plt.plot(np.ones(100) * len(train), np.linspace(0, 1, 100), '--', linewidth=0.6)\n",
    "plt.plot(df['Close'][sequence_length:].values, '--')\n",
    "plt.plot(pred, 'b', linewidth = 0.6)\n",
    "plt.show()"
   ]
  }
 ],
 "metadata": {
  "kernelspec": {
   "display_name": "base",
   "language": "python",
   "name": "python3"
  },
  "language_info": {
   "codemirror_mode": {
    "name": "ipython",
    "version": 3
   },
   "file_extension": ".py",
   "mimetype": "text/x-python",
   "name": "python",
   "nbconvert_exporter": "python",
   "pygments_lexer": "ipython3",
   "version": "3.10.8 (main, Nov 24 2022, 08:08:27) [Clang 14.0.6 ]"
  },
  "orig_nbformat": 4,
  "vscode": {
   "interpreter": {
    "hash": "cbd03b52000256fffc5622fb1d5afa03ae770321afbfaac74e08013d54c137c2"
   }
  }
 },
 "nbformat": 4,
 "nbformat_minor": 2
}
